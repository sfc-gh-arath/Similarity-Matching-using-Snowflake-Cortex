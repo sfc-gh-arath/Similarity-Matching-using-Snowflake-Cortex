{
 "metadata": {
  "kernelspec": {
   "display_name": "Streamlit Notebook",
   "name": "streamlit"
  }
 },
 "nbformat_minor": 5,
 "nbformat": 4,
 "cells": [
  {
   "cell_type": "code",
   "id": "a2246f10-5273-4e92-a2e0-3e203e7e3b02",
   "metadata": {
    "language": "sql",
    "name": "build_the_cortex_search"
   },
   "outputs": [],
   "source": "/*** ONE TIME ONLY ***/\nuse role accountadmin;\nuse database customer_support;\nuse schema support;\nuse warehouse COMPUTE_WH;\n\n\nCREATE OR REPLACE CORTEX SEARCH SERVICE customer_master_data_search_svc\n  ON full_details\n  WAREHOUSE = COMPUTE_WH\n  TARGET_LAG = '1 day'\n  AS (\n   select full_details\n   from customer_master_data\n);\n\n\n",
   "execution_count": null
  },
  {
   "cell_type": "code",
   "id": "3775908f-ca36-4846-8f38-5adca39217f2",
   "metadata": {
    "language": "python",
    "name": "load_libs",
    "collapsed": false
   },
   "source": "# Import python packages\nimport streamlit as st\nimport pandas as pd\n\n# We can also use Snowpark for our analyses!\nfrom snowflake.snowpark.context import get_active_session\nsession = get_active_session()\n",
   "execution_count": null,
   "outputs": []
  },
  {
   "cell_type": "code",
   "id": "8d50cbf4-0c8d-4950-86cb-114990437ac9",
   "metadata": {
    "language": "python",
    "name": "get_the_cortex_search",
    "collapsed": false
   },
   "source": "from snowflake.core import Root\n\nroot = Root(session)\n\n# query service\nsvc = (root\n  .databases[\"customer_support\"]\n  .schemas[\"support\"]\n  .cortex_search_services[\"customer_master_data_search_svc\"]\n)\n\n",
   "execution_count": null,
   "outputs": []
  },
  {
   "cell_type": "code",
   "id": "c695373e-ac74-4b62-a1f1-08206cbd5c81",
   "metadata": {
    "language": "python",
    "name": "call_the_search",
    "collapsed": false
   },
   "source": "resp = svc.search(\n  query=\"Patton 887 Aaron Center   WY 15339\",\n  columns=[\"full_details\"],\n  limit=1\n).to_json()\n\nst.info(resp)",
   "execution_count": null,
   "outputs": []
  },
  {
   "cell_type": "code",
   "id": "cfb5a6d3-970f-4b2a-9b63-90d322e9a3c8",
   "metadata": {
    "language": "python",
    "name": "table_based_search",
    "collapsed": false
   },
   "outputs": [],
   "source": "import json\nnew_data = session.table(\"customer_support.support.new_customer_data\").select(\"FULL_DETAILS\").to_pandas()\ndf = pd.DataFrame(columns=['New Address', 'Matching Exsiting address'])\nfor index, row in new_data.iterrows():\n    resp = svc.search(\n        query=row[\"FULL_DETAILS\"],\n        columns=[\"full_details\"],\n        limit=1\n    ).to_json()\n    j = json.loads(resp)\n    df.loc[index] = [ row[\"FULL_DETAILS\"], j[\"results\"][0][\"full_details\"]]\nst.write(df)",
   "execution_count": null
  }
 ]
}