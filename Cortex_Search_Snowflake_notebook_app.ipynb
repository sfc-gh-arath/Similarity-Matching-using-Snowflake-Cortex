{
 "metadata": {
  "kernelspec": {
   "display_name": "Streamlit Notebook",
   "name": "streamlit"
  }
 },
 "nbformat_minor": 5,
 "nbformat": 4,
 "cells": [
  {
   "cell_type": "code",
   "id": "a2246f10-5273-4e92-a2e0-3e203e7e3b02",
   "metadata": {
    "language": "sql",
    "name": "build_the_cortex_search"
   },
   "outputs": [],
   "source": "/*** ONE TIME ONLY ***/\nuse role accountadmin;\nuse database customer_support;\nuse schema support;\nuse warehouse COMPUTE_WH;\n\n\nCREATE OR REPLACE CORTEX SEARCH SERVICE customer_master_data_search_svc\n  ON full_details\n  WAREHOUSE = COMPUTE_WH\n  TARGET_LAG = '1 day'\n  AS (\n   select full_details\n   from customer_master_data\n);\n\n\n",
   "execution_count": null
  },
  {
   "cell_type": "code",
   "id": "3775908f-ca36-4846-8f38-5adca39217f2",
   "metadata": {
    "language": "python",
    "name": "load_libs",
    "collapsed": false
   },
   "source": "# Import python packages\nimport streamlit as st\nimport pandas as pd\n\n# We can also use Snowpark for our analyses!\nfrom snowflake.snowpark.context import get_active_session\nsession = get_active_session()\n",
   "execution_count": null,
   "outputs": []
  },
  {
   "cell_type": "code",
   "id": "366cb8d0-e3b8-4da5-b516-7ab182dc83c5",
   "metadata": {
    "language": "sql",
    "name": "lets_check_what_data",
    "collapsed": false
   },
   "outputs": [],
   "source": "select * from customer_support.support.customer_master_data limit 10;",
   "execution_count": null
  },
  {
   "cell_type": "code",
   "id": "ce04376e-a192-408c-b88e-0b1d401a1b4b",
   "metadata": {
    "language": "sql",
    "name": "number_of_rows",
    "collapsed": false
   },
   "outputs": [],
   "source": "select count(1) from customer_support.support.customer_master_data;",
   "execution_count": null
  },
  {
   "cell_type": "code",
   "id": "8d50cbf4-0c8d-4950-86cb-114990437ac9",
   "metadata": {
    "language": "python",
    "name": "get_the_cortex_search",
    "collapsed": false
   },
   "source": "from snowflake.core import Root\n\nroot = Root(session)\n\n# query service\nsvc = (root\n  .databases[\"customer_support\"]\n  .schemas[\"support\"]\n  .cortex_search_services[\"customer_master_data_search_svc\"]\n)\n\n",
   "execution_count": null,
   "outputs": []
  },
  {
   "cell_type": "code",
   "id": "c695373e-ac74-4b62-a1f1-08206cbd5c81",
   "metadata": {
    "language": "python",
    "name": "call_the_search",
    "collapsed": false
   },
   "source": "resp = svc.search(\n  query=\"Patton 887 Aaron Center   WY 15339\",\n  columns=[\"full_details\"],\n  limit=1\n).to_json()\n\nst.info(resp)",
   "execution_count": null,
   "outputs": []
  },
  {
   "cell_type": "code",
   "id": "dda75f03-13fc-43aa-b584-7dd6a41df8c4",
   "metadata": {
    "language": "sql",
    "name": "match_a_newset_of_data"
   },
   "outputs": [],
   "source": "select * from customer_support.support.new_customer_data limit 10;",
   "execution_count": null
  },
  {
   "cell_type": "code",
   "id": "cfb5a6d3-970f-4b2a-9b63-90d322e9a3c8",
   "metadata": {
    "language": "python",
    "name": "table_based_search",
    "collapsed": false
   },
   "outputs": [],
   "source": "import json\nnew_data = session.table(\"customer_support.support.new_customer_data\").select(\"FULL_DETAILS\").to_pandas()\ndf = pd.DataFrame(columns=['New Address', 'Matching Exsiting address'])\nfor index, row in new_data.iterrows():\n    resp = svc.search(\n        query=row[\"FULL_DETAILS\"],\n        columns=[\"full_details\"],\n        limit=1\n    ).to_json()\n    j = json.loads(resp)\n    df.loc[index] = [ row[\"FULL_DETAILS\"], j[\"results\"][0][\"full_details\"]]\nst.write(df)",
   "execution_count": null
  },
  {
   "cell_type": "code",
   "id": "9132fd2a-571e-491a-9065-c56469b74380",
   "metadata": {
    "language": "sql",
    "name": "Find_Similar_customer",
    "collapsed": false
   },
   "outputs": [],
   "source": "--let's find the best matching customers\nSELECT\n   v.cust_id cust_id,\n   v.agg products_ordered,\n   m.cust_id best_matching_customer,\n   m.agg matching_products,\n   VECTOR_COSINE_SIMILARITY(v.agg_vector, m.agg_vector) AS match_score\nFROM \n    DEMO_DB.CRM.orders_vector v inner join\n    DEMO_DB.CRM.orders_vector m on v.cust_id != m.cust_id\nQUALIFY RANK() OVER(PARTITION BY v.cust_id ORDER BY match_score desc) = 1\norder by v.cust_id",
   "execution_count": null
  }
 ]
}